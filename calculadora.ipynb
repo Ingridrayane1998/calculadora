{
  "nbformat": 4,
  "nbformat_minor": 0,
  "metadata": {
    "colab": {
      "provenance": []
    },
    "kernelspec": {
      "name": "python3",
      "display_name": "Python 3"
    },
    "language_info": {
      "name": "python"
    }
  },
  "cells": [
    {
      "cell_type": "code",
      "execution_count": null,
      "metadata": {
        "colab": {
          "base_uri": "https://localhost:8080/"
        },
        "id": "_m1mBmtcXL5q",
        "outputId": "477a7623-c144-4949-cefd-1c62fd0359ac"
      },
      "outputs": [
        {
          "output_type": "stream",
          "name": "stdout",
          "text": [
            "Qual o seu nome? ing\n",
            "Olá, ing seja bem-vindo(a) à calculadora!\n",
            "Digite o primeiro número inteiro: 100\n",
            "Digite o segundo número inteiro: 50\n",
            "Agora escolha um sinal para calcularmos os dois números, pode ser +, -, * ou /: -\n",
            "O resultado é 50\n",
            "Deseja calcular novamente? Digite sim ou não: nao\n",
            "Obrigado por usar a calculadora!\n"
          ]
        }
      ],
      "source": [
        "nome = input(\"Qual o seu nome? \")\n",
        "print(\"Olá,\", nome, \"seja bem-vindo(a) à calculadora!\")\n",
        "\n",
        "while True:\n",
        "    primeiro_numero = int(input(\"Digite o primeiro número inteiro: \"))\n",
        "    segundo_numero = int(input(\"Digite o segundo número inteiro: \"))\n",
        "    sinal = input(\"Agora escolha um sinal para calcularmos os dois números, pode ser +, -, * ou /: \")\n",
        "\n",
        "    if sinal == \"+\":\n",
        "        print(\"O resultado é\", primeiro_numero + segundo_numero)\n",
        "    elif sinal == \"-\":\n",
        "        print(\"O resultado é\", primeiro_numero - segundo_numero)\n",
        "    elif sinal == \"*\":\n",
        "        print(\"O resultado é\", primeiro_numero * segundo_numero)\n",
        "    elif sinal == \"/\":\n",
        "        print(\"O resultado é\", primeiro_numero / segundo_numero)\n",
        "    else:\n",
        "        print(\"Sinal inválido!\")\n",
        "\n",
        "    confirmacao = input(\"Deseja calcular novamente? Digite sim ou não: \")\n",
        "    if confirmacao.lower() in [\"não\", \"nao\"]:\n",
        "        print(\"Obrigado por usar a calculadora!\")\n",
        "        break\n"
      ]
    }
  ]
}